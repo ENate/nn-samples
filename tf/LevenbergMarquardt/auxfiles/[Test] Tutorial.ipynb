{
 "cells": [
  {
   "cell_type": "code",
   "execution_count": 1,
   "metadata": {},
   "outputs": [
    {
     "name": "stderr",
     "output_type": "stream",
     "text": [
      "/home/andrey/tensorflow/lib/python3.6/site-packages/h5py/__init__.py:36: FutureWarning: Conversion of the second argument of issubdtype from `float` to `np.floating` is deprecated. In future, it will be treated as `np.float64 == np.dtype(float).type`.\n",
      "  from ._conv import register_converters as _register_converters\n"
     ]
    }
   ],
   "source": [
    "import numpy as np\n",
    "import tensorflow as tf\n",
    "import math\n",
    "\n",
    "def rosenbrock(x, y, a, b):\n",
    "    return (a - x)**2 + b*(y - x**2)**2"
   ]
  },
  {
   "cell_type": "code",
   "execution_count": 2,
   "metadata": {},
   "outputs": [],
   "source": [
    "# (2.5, 2.5) - это реальные параметры, давайте забудем, что они нам известны\n",
    "data_points = np.array([[x, y, rosenbrock(x, y, 2.5, 2.5)]\n",
    "                       for x in np.arange(-2, 2.1, 2) \n",
    "                       for y in np.arange(-2, 2.1, 2)])\n",
    "m = data_points.shape[0]"
   ]
  },
  {
   "cell_type": "code",
   "execution_count": 3,
   "metadata": {},
   "outputs": [],
   "source": [
    "x, y = data_points[:, 0], data_points[:, 1]\n",
    "z = data_points[:, 2]\n",
    "# а вдруг а=5 и b=5?\n",
    "a_guess, b_guess = 5., 5.\n",
    "# Суффикс -hat используется для прогнозов, так проще ориентироваться,\n",
    "# где реальные данные, а где то, что насчитала модель. В формулах\n",
    "# соответствующие переменные будут иметь ^ треугольничек сверху -\n",
    "# шляпку. Отсюда и суффикс hat.\n",
    "z_hat = rosenbrock(x, y, a_guess, b_guess)"
   ]
  },
  {
   "cell_type": "code",
   "execution_count": 4,
   "metadata": {},
   "outputs": [
    {
     "name": "stdout",
     "output_type": "stream",
     "text": [
      "3868.2291666666665\n"
     ]
    }
   ],
   "source": [
    "# r - residuals (невязки)\n",
    "r = z - z_hat\n",
    "# mse\n",
    "loss = np.mean(r**2)\n",
    "print(loss)"
   ]
  },
  {
   "cell_type": "code",
   "execution_count": 5,
   "metadata": {},
   "outputs": [],
   "source": [
    "# тензоры данных экспериментов ('placeholder' означает, что данные надо \n",
    "# передавать каждый раз при запуске вычислений)\n",
    "x = tf.placeholder(tf.float64, shape=[m, 2])\n",
    "y = tf.placeholder(tf.float64, shape=[m])\n",
    "# тензор параметров ('variable' означает, что он хранит состояние)\n",
    "# инициализируем его нашей догадкой (5, 5)\n",
    "p = tf.Variable([5., 5.], dtype=tf.float64)\n",
    "# модель\n",
    "y_hat = rosenbrock(x[:, 0], x[:, 1], p[0], p[1])\n",
    "# невязки\n",
    "r = y - y_hat\n",
    "# mse (mean squared error)\n",
    "loss = tf.reduce_mean(r**2)"
   ]
  },
  {
   "cell_type": "code",
   "execution_count": 6,
   "metadata": {},
   "outputs": [
    {
     "name": "stdout",
     "output_type": "stream",
     "text": [
      "3868.2291666666665\n"
     ]
    }
   ],
   "source": [
    "# при запуске вычислений нам надо передать данные \n",
    "# для подстановки в тензоры типа placeholder (координаты и высота)\n",
    "feed_dict = {x: data_points[:,0:2], y: data_points[:,2]}\n",
    "# в сессии запускаются операции и вычисления TensorFlow\n",
    "session = tf.Session()\n",
    "# инициализируем глобальные переменные графа\n",
    "session.run(tf.global_variables_initializer())\n",
    "# запускаем вычисление (оценку) тензора loss (mse)\n",
    "current_loss = session.run(loss, feed_dict)\n",
    "print(current_loss)"
   ]
  },
  {
   "cell_type": "code",
   "execution_count": 7,
   "metadata": {},
   "outputs": [],
   "source": [
    "# параметры: целевое значение mse, максимальное число шагов, тензор\n",
    "# для вычисления mse, операция шага оптимизации и данные для тензоров placeholder\n",
    "def train(target_loss, max_steps, loss_tensor, train_step_op, inputs):\n",
    "    step = 0\n",
    "    current_loss = session.run(loss_tensor, inputs)\n",
    "    # оптимизируем пока не закончились шаги или не добились нужного результата\n",
    "    while current_loss > target_loss and step < max_steps:\n",
    "        step += 1\n",
    "        # логируем прогресс на 1, 2, 4, 8, 16... шагах\n",
    "        if math.log(step, 2).is_integer():\n",
    "            print(f'step: {step}, current loss: {current_loss}')\n",
    "        # делаем оптимизационный шаг\n",
    "        session.run(train_step_op, inputs)\n",
    "        current_loss = session.run(loss_tensor, inputs)\n",
    "    print(f'ENDED ON STEP: {step}, FINAL LOSS: {current_loss}')"
   ]
  },
  {
   "cell_type": "code",
   "execution_count": 8,
   "metadata": {},
   "outputs": [
    {
     "name": "stdout",
     "output_type": "stream",
     "text": [
      "step: 1, current loss: 3868.2291666666665\n",
      "step: 2, current loss: 1381.5379689135807\n",
      "step: 4, current loss: 224.7373049641391\n",
      "step: 8, current loss: 39.36606191164495\n",
      "step: 16, current loss: 21.251396378934388\n",
      "step: 32, current loss: 8.262024313710537\n",
      "step: 64, current loss: 1.5494658076417605\n",
      "step: 128, current loss: 0.07505392682364921\n",
      "step: 256, current loss: 0.00022995372615102207\n",
      "step: 512, current loss: 2.3476189944007084e-09\n",
      "ENDED ON STEP: 582, FINAL LOSS: 9.698531012270816e-11\n",
      "PARAMETERS: [2.50000205 2.49999959]\n"
     ]
    }
   ],
   "source": [
    "# вычисляем градиент функции потерь по вектору параметров\n",
    "grad = tf.gradients(loss, p)[0]\n",
    "# скорость обучения\n",
    "learning_rate = 0.0005\n",
    "# оптимизатор нам нужен, чтобы воспользоваться его методом apply_gradients -\n",
    "# обновление вектора параметров на градиент со знаком минус\n",
    "opt = tf.train.GradientDescentOptimizer(learning_rate=1)\n",
    "# сдвигаем вектор параметров на значение градиента с учётом скорости обучения\n",
    "sgd = opt.apply_gradients([(learning_rate*grad, p)])\n",
    "# запускаем цикл оптимизации, сделаем не больше 40000 шагов\n",
    "session.run(tf.global_variables_initializer())\n",
    "train(1e-10, 40000, loss, sgd, feed_dict)\n",
    "print('PARAMETERS:', session.run(p))"
   ]
  },
  {
   "cell_type": "code",
   "execution_count": 9,
   "metadata": {},
   "outputs": [
    {
     "name": "stdout",
     "output_type": "stream",
     "text": [
      "step: 1, current loss: 3868.2291666666665\n",
      "step: 2, current loss: 34205.72916492336\n",
      "step: 4, current loss: 30529.10972641627\n",
      "step: 8, current loss: 6066.123962286116\n",
      "step: 16, current loss: 30745.55587142064\n",
      "step: 32, current loss: 489.35901192814686\n",
      "step: 64, current loss: 114.83695692773343\n",
      "step: 128, current loss: 0.18336513192707898\n",
      "step: 256, current loss: 4.58012625391607e-07\n",
      "ENDED ON STEP: 317, FINAL LOSS: 2.424142714263483e-12\n",
      "PARAMETERS: [2.49999969 2.50000008]\n"
     ]
    }
   ],
   "source": [
    "# не будем сами вычислять и применять градиенты, \n",
    "# а сразу сконструируем шаг оптимизации\n",
    "adm = tf.train.AdamOptimizer(15).minimize(loss)\n",
    "# запускаем цикл оптимизации, сделаем не больше 40000 шагов\n",
    "session.run(tf.global_variables_initializer())\n",
    "train(1e-10, 40000, loss, adm, feed_dict)\n",
    "print('PARAMETERS:', session.run(p))"
   ]
  },
  {
   "cell_type": "code",
   "execution_count": 10,
   "metadata": {},
   "outputs": [
    {
     "name": "stdout",
     "output_type": "stream",
     "text": [
      "step: 1, current loss: 3868.2291666666665\n",
      "step: 2, current loss: 105.04357496954218\n",
      "step: 4, current loss: 0.3307135454853347\n",
      "ENDED ON STEP: 6, FINAL LOSS: 5.882202372519996e-20\n",
      "PARAMETERS: [2.5 2.5]\n"
     ]
    }
   ],
   "source": [
    "# матрица Гессе для функции потерь по параметрам \n",
    "hess = tf.hessians(loss, p)[0]\n",
    "# градиент превращаем в вектор-столбец\n",
    "grad_col = tf.expand_dims(grad, -1)\n",
    "# вычислим, насколько надо изменить вектор параметров\n",
    "dp = tf.matmul(tf.linalg.inv(hess), grad_col)\n",
    "# конвертируем вектор-столбец в вектор-строку\n",
    "dp = tf.squeeze(dp)\n",
    "# сдвигаем p на dp со знаком минус\n",
    "newton = opt.apply_gradients([(dp, p)])\n",
    "# запускаем цикл оптимизации, сделаем не больше 40000 шагов\n",
    "session.run(tf.global_variables_initializer())\n",
    "train(1e-10, 40000, loss, newton, feed_dict)\n",
    "print('PARAMETERS:', session.run(p))"
   ]
  },
  {
   "cell_type": "code",
   "execution_count": 11,
   "metadata": {},
   "outputs": [
    {
     "name": "stdout",
     "output_type": "stream",
     "text": [
      "step: 1, current loss: 3868.2291666666665\n",
      "step: 2, current loss: 14.653025157673637\n",
      "step: 4, current loss: 4.391807917289566e-07\n",
      "ENDED ON STEP: 4, FINAL LOSS: 3.37436620765895e-17\n"
     ]
    }
   ],
   "source": [
    "# к сожалению, в TensorFlow нет реализации вычисления матрицы Якоби,\n",
    "# но мы помним, что эта матрица состоит из градиентов компонентов \n",
    "# функции невязок. В итоге, матрица вычисляется так:\n",
    "# 1) разбиваем функцию невязок на отдельные компоненты tf.unstack(r)\n",
    "# 2) для каждого компонента вычисляем градиент tf.gradients(r_i, p)\n",
    "# 3) объединяем все градиенты в одну матрицу tf.stack\n",
    "# такой способ вычисления не очень эффективный, более того мы очень \n",
    "# сильно увеличиваем размер графа потока данных\n",
    "j = tf.stack([tf.gradients(r_i, p)[0]\n",
    "              for r_i in tf.unstack(r)])\n",
    "jT = tf.transpose(j)\n",
    "# вектор невязок переводим в вектор-столбец\n",
    "r_col = tf.expand_dims(r, -1)\n",
    "# аппроксимация матрицы Гессе и градиента\n",
    "hess_approx = tf.matmul(jT, j)\n",
    "grad_approx = tf.matmul(jT, r_col)\n",
    "# вычислим, насколько надо изменить вектор параметров\n",
    "dp = tf.matmul(tf.linalg.inv(hess_approx), grad_approx)\n",
    "# конвертируем вектор-столбец в вектор-строку\n",
    "dp = tf.squeeze(dp)\n",
    "# сдвигаем p на dp со знаком минус\n",
    "ng = opt.apply_gradients([(dp, p)])\n",
    "# запускаем цикл оптимизации, сделаем не больше 40000 шагов\n",
    "session.run(tf.global_variables_initializer())\n",
    "train(1e-10, 40000, loss, ng, feed_dict)"
   ]
  },
  {
   "cell_type": "code",
   "execution_count": 12,
   "metadata": {},
   "outputs": [],
   "source": [
    "# эксперименты будут случайными\n",
    "def get_random_rosenbrock_data_points(m):\n",
    "    result = np.zeros((m, 3))\n",
    "    result[:, 0] = np.random.uniform(-2, 2, m)\n",
    "    result[:, 1] = np.random.uniform(-2, 2, m)\n",
    "    result[:, 2] = rosenbrock(result[:, 0], result[:, 1], 2.5, 2.5)\n",
    "    return result\n",
    "\n",
    "m = 500\n",
    "data_points = get_random_rosenbrock_data_points(m)\n",
    "# overfitting не тема статьи, но совсем без валидации нельзя\n",
    "validation_data_points = get_random_rosenbrock_data_points(m)"
   ]
  },
  {
   "cell_type": "code",
   "execution_count": 13,
   "metadata": {},
   "outputs": [],
   "source": [
    "# хотим скрытый слой из 10 \"нейронов\"\n",
    "n_hidden = 10\n",
    "# начальную догадку будем конструировать алгоритмом Xavier'a\n",
    "initializer = tf.contrib.layers.xavier_initializer()\n",
    "\n",
    "# тензоры данных экспериментов\n",
    "x = tf.placeholder(tf.float64, shape=[m, 2])\n",
    "y = tf.placeholder(tf.float64, shape=[m, 1])\n",
    "\n",
    "# тензоры весов и смещения для вычисления скрытого слоя\n",
    "W1 = tf.Variable(initializer([2, n_hidden], dtype=tf.float64))\n",
    "b1 = tf.Variable(initializer([1, n_hidden], dtype=tf.float64))\n",
    "# вычисление скрытого слоя, используем tanh для активации\n",
    "h1 = tf.nn.tanh(tf.matmul(x, W1) + b1)\n",
    "# тензоры весов и смещения для вычисления прогноза\n",
    "W2 = tf.Variable(initializer([n_hidden, 1], dtype=tf.float64))\n",
    "b2 = tf.Variable(initializer([1], dtype=tf.float64))\n",
    "# вычисление прогноза\n",
    "y_hat = tf.matmul(h1, W2) + b2\n",
    "# невязки\n",
    "r = y - y_hat\n",
    "# также используем mse в качестве функции потерь\n",
    "loss = tf.reduce_mean(tf.square(r))\n",
    "\n",
    "# данные для подстановки в тензоры placeholder\n",
    "feed_dict = {x: data_points[:,0:2], \n",
    "             y: data_points[:,2:3]}\n",
    "validation_feed_dict = {x: validation_data_points[:,0:2], \n",
    "                        y: validation_data_points[:,2:3]}"
   ]
  },
  {
   "cell_type": "code",
   "execution_count": 14,
   "metadata": {},
   "outputs": [
    {
     "name": "stdout",
     "output_type": "stream",
     "text": [
      "step: 1, current loss: 589.9457884407548\n",
      "step: 2, current loss: 587.2100131146092\n",
      "step: 4, current loss: 581.8632056677741\n",
      "step: 8, current loss: 571.7189516309523\n",
      "step: 16, current loss: 553.4682461490027\n",
      "step: 32, current loss: 517.083757850498\n",
      "step: 64, current loss: 417.8556606900435\n",
      "step: 128, current loss: 267.6839105248462\n",
      "step: 256, current loss: 210.93924951776216\n",
      "step: 512, current loss: 171.3473477184523\n",
      "step: 1024, current loss: 109.2442487353147\n",
      "step: 2048, current loss: 47.44425395221002\n",
      "step: 4096, current loss: 5.785002291319193\n",
      "step: 8192, current loss: 1.5602541654937476\n",
      "step: 16384, current loss: 0.16080098533369386\n",
      "step: 32768, current loss: 0.08688951262292477\n",
      "ENDED ON STEP: 40000, FINAL LOSS: 0.08153516080412575\n",
      "VALIDATION LOSS: 0.1311750908815128\n"
     ]
    }
   ],
   "source": [
    "# сконструируем шаг оптимизации\n",
    "adm = tf.train.AdamOptimizer(1e-2).minimize(loss)\n",
    "session.run(tf.global_variables_initializer())\n",
    "# запускаем цикл оптимизации, сделаем не больше 40000 шагов\n",
    "train(1e-10, 40000, loss, adm, feed_dict)\n",
    "print('VALIDATION LOSS: '+str(session.run(loss, validation_feed_dict)))"
   ]
  },
  {
   "cell_type": "code",
   "execution_count": 15,
   "metadata": {},
   "outputs": [],
   "source": [
    "# вычисление матрицы Якоби векторной функции y по вектору x\n",
    "def jacobian(y, x):\n",
    "    loop_vars = [\n",
    "        tf.constant(0, tf.int32),\n",
    "        tf.TensorArray(tf.float64, size=m),\n",
    "    ]\n",
    "    # конструируем цикл-подграф потока данных\n",
    "    # в результате получим массив градиентов\n",
    "    _, jacobian = tf.while_loop(\n",
    "        lambda i, _: i < m,\n",
    "        # каждый раз после вычисления градиента нам надо преобразовать его в \n",
    "        # одномерный терзор (вектор-строку), так как x может быть любой формы\n",
    "        lambda i, res: (i+1, res.write(i, tf.reshape(tf.gradients(y[i], x), (-1,)))),\n",
    "        loop_vars)\n",
    "    # объединяем все градиенты в матрицу Якоби\n",
    "    return jacobian.stack()\n",
    "\n",
    "# вектор невязок из столбца в строку\n",
    "r_flat = tf.squeeze(r)\n",
    "# для каждого тензора параметров вычисляем матрицу Якоби\n",
    "# потом эти матрицы объединяем в одну \n",
    "parms = [W1, b1, W2, b2]\n",
    "parms_sizes = [tf.size(p) for p in parms]\n",
    "j = tf.concat([jacobian(r_flat, p) for p in parms], 1)\n",
    "jT = tf.transpose(j)\n",
    "# матрица Якоби нам нужна для аппроксимации матрицы Гессе и градиента\n",
    "hess_approx = tf.matmul(jT, j)\n",
    "grad_approx = tf.matmul(jT, r)"
   ]
  },
  {
   "cell_type": "code",
   "execution_count": 16,
   "metadata": {},
   "outputs": [
    {
     "name": "stdout",
     "output_type": "stream",
     "text": [
      "step: 1, current loss: 658.4954996742503\n",
      "step: 2, current loss: 203906947.92142332\n"
     ]
    },
    {
     "ename": "InvalidArgumentError",
     "evalue": "Input is not invertible.\n\t [[Node: MatrixInverse_2 = MatrixInverse[T=DT_DOUBLE, adjoint=false, _device=\"/job:localhost/replica:0/task:0/device:GPU:0\"](MatMul_6)]]\n\nCaused by op 'MatrixInverse_2', defined at:\n  File \"/usr/lib/python3.6/runpy.py\", line 193, in _run_module_as_main\n    \"__main__\", mod_spec)\n  File \"/usr/lib/python3.6/runpy.py\", line 85, in _run_code\n    exec(code, run_globals)\n  File \"/home/andrey/tensorflow/lib/python3.6/site-packages/ipykernel_launcher.py\", line 16, in <module>\n    app.launch_new_instance()\n  File \"/home/andrey/tensorflow/lib/python3.6/site-packages/traitlets/config/application.py\", line 658, in launch_instance\n    app.start()\n  File \"/home/andrey/tensorflow/lib/python3.6/site-packages/ipykernel/kernelapp.py\", line 486, in start\n    self.io_loop.start()\n  File \"/home/andrey/tensorflow/lib/python3.6/site-packages/tornado/platform/asyncio.py\", line 112, in start\n    self.asyncio_loop.run_forever()\n  File \"/usr/lib/python3.6/asyncio/base_events.py\", line 427, in run_forever\n    self._run_once()\n  File \"/usr/lib/python3.6/asyncio/base_events.py\", line 1440, in _run_once\n    handle._run()\n  File \"/usr/lib/python3.6/asyncio/events.py\", line 145, in _run\n    self._callback(*self._args)\n  File \"/home/andrey/tensorflow/lib/python3.6/site-packages/tornado/platform/asyncio.py\", line 102, in _handle_events\n    handler_func(fileobj, events)\n  File \"/home/andrey/tensorflow/lib/python3.6/site-packages/tornado/stack_context.py\", line 276, in null_wrapper\n    return fn(*args, **kwargs)\n  File \"/home/andrey/tensorflow/lib/python3.6/site-packages/zmq/eventloop/zmqstream.py\", line 450, in _handle_events\n    self._handle_recv()\n  File \"/home/andrey/tensorflow/lib/python3.6/site-packages/zmq/eventloop/zmqstream.py\", line 480, in _handle_recv\n    self._run_callback(callback, msg)\n  File \"/home/andrey/tensorflow/lib/python3.6/site-packages/zmq/eventloop/zmqstream.py\", line 432, in _run_callback\n    callback(*args, **kwargs)\n  File \"/home/andrey/tensorflow/lib/python3.6/site-packages/tornado/stack_context.py\", line 276, in null_wrapper\n    return fn(*args, **kwargs)\n  File \"/home/andrey/tensorflow/lib/python3.6/site-packages/ipykernel/kernelbase.py\", line 283, in dispatcher\n    return self.dispatch_shell(stream, msg)\n  File \"/home/andrey/tensorflow/lib/python3.6/site-packages/ipykernel/kernelbase.py\", line 233, in dispatch_shell\n    handler(stream, idents, msg)\n  File \"/home/andrey/tensorflow/lib/python3.6/site-packages/ipykernel/kernelbase.py\", line 399, in execute_request\n    user_expressions, allow_stdin)\n  File \"/home/andrey/tensorflow/lib/python3.6/site-packages/ipykernel/ipkernel.py\", line 208, in do_execute\n    res = shell.run_cell(code, store_history=store_history, silent=silent)\n  File \"/home/andrey/tensorflow/lib/python3.6/site-packages/ipykernel/zmqshell.py\", line 537, in run_cell\n    return super(ZMQInteractiveShell, self).run_cell(*args, **kwargs)\n  File \"/home/andrey/tensorflow/lib/python3.6/site-packages/IPython/core/interactiveshell.py\", line 2728, in run_cell\n    interactivity=interactivity, compiler=compiler, result=result)\n  File \"/home/andrey/tensorflow/lib/python3.6/site-packages/IPython/core/interactiveshell.py\", line 2850, in run_ast_nodes\n    if self.run_code(code, result):\n  File \"/home/andrey/tensorflow/lib/python3.6/site-packages/IPython/core/interactiveshell.py\", line 2910, in run_code\n    exec(code_obj, self.user_global_ns, self.user_ns)\n  File \"<ipython-input-16-38f7210ca432>\", line 2, in <module>\n    dp_flat = tf.matmul(tf.linalg.inv(hess_approx), grad_approx)\n  File \"/home/andrey/tensorflow/lib/python3.6/site-packages/tensorflow/python/ops/gen_linalg_ops.py\", line 625, in matrix_inverse\n    \"MatrixInverse\", input=input, adjoint=adjoint, name=name)\n  File \"/home/andrey/tensorflow/lib/python3.6/site-packages/tensorflow/python/framework/op_def_library.py\", line 787, in _apply_op_helper\n    op_def=op_def)\n  File \"/home/andrey/tensorflow/lib/python3.6/site-packages/tensorflow/python/framework/ops.py\", line 3271, in create_op\n    op_def=op_def)\n  File \"/home/andrey/tensorflow/lib/python3.6/site-packages/tensorflow/python/framework/ops.py\", line 1650, in __init__\n    self._traceback = self._graph._extract_stack()  # pylint: disable=protected-access\n\nInvalidArgumentError (see above for traceback): Input is not invertible.\n\t [[Node: MatrixInverse_2 = MatrixInverse[T=DT_DOUBLE, adjoint=false, _device=\"/job:localhost/replica:0/task:0/device:GPU:0\"](MatMul_6)]]\n",
     "output_type": "error",
     "traceback": [
      "\u001b[0;31m---------------------------------------------------------------------------\u001b[0m",
      "\u001b[0;31mInvalidArgumentError\u001b[0m                      Traceback (most recent call last)",
      "\u001b[0;32m~/tensorflow/lib/python3.6/site-packages/tensorflow/python/client/session.py\u001b[0m in \u001b[0;36m_do_call\u001b[0;34m(self, fn, *args)\u001b[0m\n\u001b[1;32m   1360\u001b[0m     \u001b[0;32mtry\u001b[0m\u001b[0;34m:\u001b[0m\u001b[0;34m\u001b[0m\u001b[0;34m\u001b[0m\u001b[0m\n\u001b[0;32m-> 1361\u001b[0;31m       \u001b[0;32mreturn\u001b[0m \u001b[0mfn\u001b[0m\u001b[0;34m(\u001b[0m\u001b[0;34m*\u001b[0m\u001b[0margs\u001b[0m\u001b[0;34m)\u001b[0m\u001b[0;34m\u001b[0m\u001b[0;34m\u001b[0m\u001b[0m\n\u001b[0m\u001b[1;32m   1362\u001b[0m     \u001b[0;32mexcept\u001b[0m \u001b[0merrors\u001b[0m\u001b[0;34m.\u001b[0m\u001b[0mOpError\u001b[0m \u001b[0;32mas\u001b[0m \u001b[0me\u001b[0m\u001b[0;34m:\u001b[0m\u001b[0;34m\u001b[0m\u001b[0;34m\u001b[0m\u001b[0m\n",
      "\u001b[0;32m~/tensorflow/lib/python3.6/site-packages/tensorflow/python/client/session.py\u001b[0m in \u001b[0;36m_run_fn\u001b[0;34m(session, feed_dict, fetch_list, target_list, options, run_metadata)\u001b[0m\n\u001b[1;32m   1339\u001b[0m           return tf_session.TF_Run(session, options, feed_dict, fetch_list,\n\u001b[0;32m-> 1340\u001b[0;31m                                    target_list, status, run_metadata)\n\u001b[0m\u001b[1;32m   1341\u001b[0m \u001b[0;34m\u001b[0m\u001b[0m\n",
      "\u001b[0;32m~/tensorflow/lib/python3.6/site-packages/tensorflow/python/framework/errors_impl.py\u001b[0m in \u001b[0;36m__exit__\u001b[0;34m(self, type_arg, value_arg, traceback_arg)\u001b[0m\n\u001b[1;32m    515\u001b[0m             \u001b[0mcompat\u001b[0m\u001b[0;34m.\u001b[0m\u001b[0mas_text\u001b[0m\u001b[0;34m(\u001b[0m\u001b[0mc_api\u001b[0m\u001b[0;34m.\u001b[0m\u001b[0mTF_Message\u001b[0m\u001b[0;34m(\u001b[0m\u001b[0mself\u001b[0m\u001b[0;34m.\u001b[0m\u001b[0mstatus\u001b[0m\u001b[0;34m.\u001b[0m\u001b[0mstatus\u001b[0m\u001b[0;34m)\u001b[0m\u001b[0;34m)\u001b[0m\u001b[0;34m,\u001b[0m\u001b[0;34m\u001b[0m\u001b[0;34m\u001b[0m\u001b[0m\n\u001b[0;32m--> 516\u001b[0;31m             c_api.TF_GetCode(self.status.status))\n\u001b[0m\u001b[1;32m    517\u001b[0m     \u001b[0;31m# Delete the underlying status object from memory otherwise it stays alive\u001b[0m\u001b[0;34m\u001b[0m\u001b[0;34m\u001b[0m\u001b[0;34m\u001b[0m\u001b[0m\n",
      "\u001b[0;31mInvalidArgumentError\u001b[0m: Input is not invertible.\n\t [[Node: MatrixInverse_2 = MatrixInverse[T=DT_DOUBLE, adjoint=false, _device=\"/job:localhost/replica:0/task:0/device:GPU:0\"](MatMul_6)]]",
      "\nDuring handling of the above exception, another exception occurred:\n",
      "\u001b[0;31mInvalidArgumentError\u001b[0m                      Traceback (most recent call last)",
      "\u001b[0;32m<ipython-input-16-38f7210ca432>\u001b[0m in \u001b[0;36m<module>\u001b[0;34m()\u001b[0m\n\u001b[1;32m     10\u001b[0m \u001b[0;31m# запускаем оптимизацию\u001b[0m\u001b[0;34m\u001b[0m\u001b[0;34m\u001b[0m\u001b[0;34m\u001b[0m\u001b[0m\n\u001b[1;32m     11\u001b[0m \u001b[0msession\u001b[0m\u001b[0;34m.\u001b[0m\u001b[0mrun\u001b[0m\u001b[0;34m(\u001b[0m\u001b[0mtf\u001b[0m\u001b[0;34m.\u001b[0m\u001b[0mglobal_variables_initializer\u001b[0m\u001b[0;34m(\u001b[0m\u001b[0;34m)\u001b[0m\u001b[0;34m)\u001b[0m\u001b[0;34m\u001b[0m\u001b[0;34m\u001b[0m\u001b[0m\n\u001b[0;32m---> 12\u001b[0;31m \u001b[0mtrain\u001b[0m\u001b[0;34m(\u001b[0m\u001b[0;36m1e-10\u001b[0m\u001b[0;34m,\u001b[0m \u001b[0;36m100\u001b[0m\u001b[0;34m,\u001b[0m \u001b[0mloss\u001b[0m\u001b[0;34m,\u001b[0m \u001b[0mgn\u001b[0m\u001b[0;34m,\u001b[0m \u001b[0mfeed_dict\u001b[0m\u001b[0;34m)\u001b[0m\u001b[0;34m\u001b[0m\u001b[0;34m\u001b[0m\u001b[0m\n\u001b[0m",
      "\u001b[0;32m<ipython-input-7-6e31394328a6>\u001b[0m in \u001b[0;36mtrain\u001b[0;34m(target_loss, max_steps, loss_tensor, train_step_op, inputs)\u001b[0m\n\u001b[1;32m     11\u001b[0m             \u001b[0mprint\u001b[0m\u001b[0;34m(\u001b[0m\u001b[0;34mf'step: {step}, current loss: {current_loss}'\u001b[0m\u001b[0;34m)\u001b[0m\u001b[0;34m\u001b[0m\u001b[0;34m\u001b[0m\u001b[0m\n\u001b[1;32m     12\u001b[0m         \u001b[0;31m# делаем оптимизационный шаг\u001b[0m\u001b[0;34m\u001b[0m\u001b[0;34m\u001b[0m\u001b[0;34m\u001b[0m\u001b[0m\n\u001b[0;32m---> 13\u001b[0;31m         \u001b[0msession\u001b[0m\u001b[0;34m.\u001b[0m\u001b[0mrun\u001b[0m\u001b[0;34m(\u001b[0m\u001b[0mtrain_step_op\u001b[0m\u001b[0;34m,\u001b[0m \u001b[0minputs\u001b[0m\u001b[0;34m)\u001b[0m\u001b[0;34m\u001b[0m\u001b[0;34m\u001b[0m\u001b[0m\n\u001b[0m\u001b[1;32m     14\u001b[0m         \u001b[0mcurrent_loss\u001b[0m \u001b[0;34m=\u001b[0m \u001b[0msession\u001b[0m\u001b[0;34m.\u001b[0m\u001b[0mrun\u001b[0m\u001b[0;34m(\u001b[0m\u001b[0mloss_tensor\u001b[0m\u001b[0;34m,\u001b[0m \u001b[0minputs\u001b[0m\u001b[0;34m)\u001b[0m\u001b[0;34m\u001b[0m\u001b[0;34m\u001b[0m\u001b[0m\n\u001b[1;32m     15\u001b[0m     \u001b[0mprint\u001b[0m\u001b[0;34m(\u001b[0m\u001b[0;34mf'ENDED ON STEP: {step}, FINAL LOSS: {current_loss}'\u001b[0m\u001b[0;34m)\u001b[0m\u001b[0;34m\u001b[0m\u001b[0;34m\u001b[0m\u001b[0m\n",
      "\u001b[0;32m~/tensorflow/lib/python3.6/site-packages/tensorflow/python/client/session.py\u001b[0m in \u001b[0;36mrun\u001b[0;34m(self, fetches, feed_dict, options, run_metadata)\u001b[0m\n\u001b[1;32m    903\u001b[0m     \u001b[0;32mtry\u001b[0m\u001b[0;34m:\u001b[0m\u001b[0;34m\u001b[0m\u001b[0;34m\u001b[0m\u001b[0m\n\u001b[1;32m    904\u001b[0m       result = self._run(None, fetches, feed_dict, options_ptr,\n\u001b[0;32m--> 905\u001b[0;31m                          run_metadata_ptr)\n\u001b[0m\u001b[1;32m    906\u001b[0m       \u001b[0;32mif\u001b[0m \u001b[0mrun_metadata\u001b[0m\u001b[0;34m:\u001b[0m\u001b[0;34m\u001b[0m\u001b[0;34m\u001b[0m\u001b[0m\n\u001b[1;32m    907\u001b[0m         \u001b[0mproto_data\u001b[0m \u001b[0;34m=\u001b[0m \u001b[0mtf_session\u001b[0m\u001b[0;34m.\u001b[0m\u001b[0mTF_GetBuffer\u001b[0m\u001b[0;34m(\u001b[0m\u001b[0mrun_metadata_ptr\u001b[0m\u001b[0;34m)\u001b[0m\u001b[0;34m\u001b[0m\u001b[0;34m\u001b[0m\u001b[0m\n",
      "\u001b[0;32m~/tensorflow/lib/python3.6/site-packages/tensorflow/python/client/session.py\u001b[0m in \u001b[0;36m_run\u001b[0;34m(self, handle, fetches, feed_dict, options, run_metadata)\u001b[0m\n\u001b[1;32m   1135\u001b[0m     \u001b[0;32mif\u001b[0m \u001b[0mfinal_fetches\u001b[0m \u001b[0;32mor\u001b[0m \u001b[0mfinal_targets\u001b[0m \u001b[0;32mor\u001b[0m \u001b[0;34m(\u001b[0m\u001b[0mhandle\u001b[0m \u001b[0;32mand\u001b[0m \u001b[0mfeed_dict_tensor\u001b[0m\u001b[0;34m)\u001b[0m\u001b[0;34m:\u001b[0m\u001b[0;34m\u001b[0m\u001b[0;34m\u001b[0m\u001b[0m\n\u001b[1;32m   1136\u001b[0m       results = self._do_run(handle, final_targets, final_fetches,\n\u001b[0;32m-> 1137\u001b[0;31m                              feed_dict_tensor, options, run_metadata)\n\u001b[0m\u001b[1;32m   1138\u001b[0m     \u001b[0;32melse\u001b[0m\u001b[0;34m:\u001b[0m\u001b[0;34m\u001b[0m\u001b[0;34m\u001b[0m\u001b[0m\n\u001b[1;32m   1139\u001b[0m       \u001b[0mresults\u001b[0m \u001b[0;34m=\u001b[0m \u001b[0;34m[\u001b[0m\u001b[0;34m]\u001b[0m\u001b[0;34m\u001b[0m\u001b[0;34m\u001b[0m\u001b[0m\n",
      "\u001b[0;32m~/tensorflow/lib/python3.6/site-packages/tensorflow/python/client/session.py\u001b[0m in \u001b[0;36m_do_run\u001b[0;34m(self, handle, target_list, fetch_list, feed_dict, options, run_metadata)\u001b[0m\n\u001b[1;32m   1353\u001b[0m     \u001b[0;32mif\u001b[0m \u001b[0mhandle\u001b[0m \u001b[0;32mis\u001b[0m \u001b[0;32mNone\u001b[0m\u001b[0;34m:\u001b[0m\u001b[0;34m\u001b[0m\u001b[0;34m\u001b[0m\u001b[0m\n\u001b[1;32m   1354\u001b[0m       return self._do_call(_run_fn, self._session, feeds, fetches, targets,\n\u001b[0;32m-> 1355\u001b[0;31m                            options, run_metadata)\n\u001b[0m\u001b[1;32m   1356\u001b[0m     \u001b[0;32melse\u001b[0m\u001b[0;34m:\u001b[0m\u001b[0;34m\u001b[0m\u001b[0;34m\u001b[0m\u001b[0m\n\u001b[1;32m   1357\u001b[0m       \u001b[0;32mreturn\u001b[0m \u001b[0mself\u001b[0m\u001b[0;34m.\u001b[0m\u001b[0m_do_call\u001b[0m\u001b[0;34m(\u001b[0m\u001b[0m_prun_fn\u001b[0m\u001b[0;34m,\u001b[0m \u001b[0mself\u001b[0m\u001b[0;34m.\u001b[0m\u001b[0m_session\u001b[0m\u001b[0;34m,\u001b[0m \u001b[0mhandle\u001b[0m\u001b[0;34m,\u001b[0m \u001b[0mfeeds\u001b[0m\u001b[0;34m,\u001b[0m \u001b[0mfetches\u001b[0m\u001b[0;34m)\u001b[0m\u001b[0;34m\u001b[0m\u001b[0;34m\u001b[0m\u001b[0m\n",
      "\u001b[0;32m~/tensorflow/lib/python3.6/site-packages/tensorflow/python/client/session.py\u001b[0m in \u001b[0;36m_do_call\u001b[0;34m(self, fn, *args)\u001b[0m\n\u001b[1;32m   1372\u001b[0m         \u001b[0;32mexcept\u001b[0m \u001b[0mKeyError\u001b[0m\u001b[0;34m:\u001b[0m\u001b[0;34m\u001b[0m\u001b[0;34m\u001b[0m\u001b[0m\n\u001b[1;32m   1373\u001b[0m           \u001b[0;32mpass\u001b[0m\u001b[0;34m\u001b[0m\u001b[0;34m\u001b[0m\u001b[0m\n\u001b[0;32m-> 1374\u001b[0;31m       \u001b[0;32mraise\u001b[0m \u001b[0mtype\u001b[0m\u001b[0;34m(\u001b[0m\u001b[0me\u001b[0m\u001b[0;34m)\u001b[0m\u001b[0;34m(\u001b[0m\u001b[0mnode_def\u001b[0m\u001b[0;34m,\u001b[0m \u001b[0mop\u001b[0m\u001b[0;34m,\u001b[0m \u001b[0mmessage\u001b[0m\u001b[0;34m)\u001b[0m\u001b[0;34m\u001b[0m\u001b[0;34m\u001b[0m\u001b[0m\n\u001b[0m\u001b[1;32m   1375\u001b[0m \u001b[0;34m\u001b[0m\u001b[0m\n\u001b[1;32m   1376\u001b[0m   \u001b[0;32mdef\u001b[0m \u001b[0m_extend_graph\u001b[0m\u001b[0;34m(\u001b[0m\u001b[0mself\u001b[0m\u001b[0;34m)\u001b[0m\u001b[0;34m:\u001b[0m\u001b[0;34m\u001b[0m\u001b[0;34m\u001b[0m\u001b[0m\n",
      "\u001b[0;31mInvalidArgumentError\u001b[0m: Input is not invertible.\n\t [[Node: MatrixInverse_2 = MatrixInverse[T=DT_DOUBLE, adjoint=false, _device=\"/job:localhost/replica:0/task:0/device:GPU:0\"](MatMul_6)]]\n\nCaused by op 'MatrixInverse_2', defined at:\n  File \"/usr/lib/python3.6/runpy.py\", line 193, in _run_module_as_main\n    \"__main__\", mod_spec)\n  File \"/usr/lib/python3.6/runpy.py\", line 85, in _run_code\n    exec(code, run_globals)\n  File \"/home/andrey/tensorflow/lib/python3.6/site-packages/ipykernel_launcher.py\", line 16, in <module>\n    app.launch_new_instance()\n  File \"/home/andrey/tensorflow/lib/python3.6/site-packages/traitlets/config/application.py\", line 658, in launch_instance\n    app.start()\n  File \"/home/andrey/tensorflow/lib/python3.6/site-packages/ipykernel/kernelapp.py\", line 486, in start\n    self.io_loop.start()\n  File \"/home/andrey/tensorflow/lib/python3.6/site-packages/tornado/platform/asyncio.py\", line 112, in start\n    self.asyncio_loop.run_forever()\n  File \"/usr/lib/python3.6/asyncio/base_events.py\", line 427, in run_forever\n    self._run_once()\n  File \"/usr/lib/python3.6/asyncio/base_events.py\", line 1440, in _run_once\n    handle._run()\n  File \"/usr/lib/python3.6/asyncio/events.py\", line 145, in _run\n    self._callback(*self._args)\n  File \"/home/andrey/tensorflow/lib/python3.6/site-packages/tornado/platform/asyncio.py\", line 102, in _handle_events\n    handler_func(fileobj, events)\n  File \"/home/andrey/tensorflow/lib/python3.6/site-packages/tornado/stack_context.py\", line 276, in null_wrapper\n    return fn(*args, **kwargs)\n  File \"/home/andrey/tensorflow/lib/python3.6/site-packages/zmq/eventloop/zmqstream.py\", line 450, in _handle_events\n    self._handle_recv()\n  File \"/home/andrey/tensorflow/lib/python3.6/site-packages/zmq/eventloop/zmqstream.py\", line 480, in _handle_recv\n    self._run_callback(callback, msg)\n  File \"/home/andrey/tensorflow/lib/python3.6/site-packages/zmq/eventloop/zmqstream.py\", line 432, in _run_callback\n    callback(*args, **kwargs)\n  File \"/home/andrey/tensorflow/lib/python3.6/site-packages/tornado/stack_context.py\", line 276, in null_wrapper\n    return fn(*args, **kwargs)\n  File \"/home/andrey/tensorflow/lib/python3.6/site-packages/ipykernel/kernelbase.py\", line 283, in dispatcher\n    return self.dispatch_shell(stream, msg)\n  File \"/home/andrey/tensorflow/lib/python3.6/site-packages/ipykernel/kernelbase.py\", line 233, in dispatch_shell\n    handler(stream, idents, msg)\n  File \"/home/andrey/tensorflow/lib/python3.6/site-packages/ipykernel/kernelbase.py\", line 399, in execute_request\n    user_expressions, allow_stdin)\n  File \"/home/andrey/tensorflow/lib/python3.6/site-packages/ipykernel/ipkernel.py\", line 208, in do_execute\n    res = shell.run_cell(code, store_history=store_history, silent=silent)\n  File \"/home/andrey/tensorflow/lib/python3.6/site-packages/ipykernel/zmqshell.py\", line 537, in run_cell\n    return super(ZMQInteractiveShell, self).run_cell(*args, **kwargs)\n  File \"/home/andrey/tensorflow/lib/python3.6/site-packages/IPython/core/interactiveshell.py\", line 2728, in run_cell\n    interactivity=interactivity, compiler=compiler, result=result)\n  File \"/home/andrey/tensorflow/lib/python3.6/site-packages/IPython/core/interactiveshell.py\", line 2850, in run_ast_nodes\n    if self.run_code(code, result):\n  File \"/home/andrey/tensorflow/lib/python3.6/site-packages/IPython/core/interactiveshell.py\", line 2910, in run_code\n    exec(code_obj, self.user_global_ns, self.user_ns)\n  File \"<ipython-input-16-38f7210ca432>\", line 2, in <module>\n    dp_flat = tf.matmul(tf.linalg.inv(hess_approx), grad_approx)\n  File \"/home/andrey/tensorflow/lib/python3.6/site-packages/tensorflow/python/ops/gen_linalg_ops.py\", line 625, in matrix_inverse\n    \"MatrixInverse\", input=input, adjoint=adjoint, name=name)\n  File \"/home/andrey/tensorflow/lib/python3.6/site-packages/tensorflow/python/framework/op_def_library.py\", line 787, in _apply_op_helper\n    op_def=op_def)\n  File \"/home/andrey/tensorflow/lib/python3.6/site-packages/tensorflow/python/framework/ops.py\", line 3271, in create_op\n    op_def=op_def)\n  File \"/home/andrey/tensorflow/lib/python3.6/site-packages/tensorflow/python/framework/ops.py\", line 1650, in __init__\n    self._traceback = self._graph._extract_stack()  # pylint: disable=protected-access\n\nInvalidArgumentError (see above for traceback): Input is not invertible.\n\t [[Node: MatrixInverse_2 = MatrixInverse[T=DT_DOUBLE, adjoint=false, _device=\"/job:localhost/replica:0/task:0/device:GPU:0\"](MatMul_6)]]\n"
     ]
    }
   ],
   "source": [
    "# 1. насколько надо изменить параметры\n",
    "dp_flat = tf.matmul(tf.linalg.inv(hess_approx), grad_approx)\n",
    "# 2. разобьём изменения по тензорам\n",
    "dps = tf.split(dp_flat, parms_sizes, 0)\n",
    "# 3. приведём к соответствующей форме\n",
    "for i in range(len(dps)):\n",
    "    dps[i] = tf.reshape(dps[i], parms[i].shape)\n",
    "# 4. шаг оптимизации: применяем тензоры изменений к тензорам параметров\n",
    "gn = opt.apply_gradients(zip(dps, parms))\n",
    "# запускаем оптимизацию\n",
    "session.run(tf.global_variables_initializer())\n",
    "train(1e-10, 100, loss, gn, feed_dict)"
   ]
  },
  {
   "cell_type": "code",
   "execution_count": 17,
   "metadata": {},
   "outputs": [],
   "source": [
    "mu = tf.placeholder(tf.float64, shape=[1])\n",
    "n = tf.add_n(parms_sizes)\n",
    "I = tf.eye(n, dtype=tf.float64)\n",
    "# 1. насколько надо изменить параметры\n",
    "dp_flat = tf.matmul(tf.linalg.inv(hess_approx + tf.multiply(mu, I)), grad_approx)\n",
    "# 2. разобьём изменения по тензорам\n",
    "dps = tf.split(dp_flat, parms_sizes, 0)\n",
    "# 3. приведём к соответствующей форме\n",
    "for i in range(len(dps)):\n",
    "    dps[i] = tf.reshape(dps[i], parms[i].shape)\n",
    "# 4. шаг оптимизации: применяем тензоры изменений к тензорам параметров\n",
    "lm = opt.apply_gradients(zip(dps, parms))"
   ]
  },
  {
   "cell_type": "code",
   "execution_count": 20,
   "metadata": {},
   "outputs": [
    {
     "name": "stdout",
     "output_type": "stream",
     "text": [
      "step: 1, mu: 3.0 current loss: 620.9707245648897\n",
      "step: 2, mu: 3.0 current loss: 589.1031202350457\n",
      "step: 4, mu: 3.0 current loss: 178.79992834948726\n",
      "step: 8, mu: 3.0 current loss: 36.57289957972783\n",
      "step: 16, mu: 30.0 current loss: 3.076199033465486\n",
      "step: 32, mu: 0.3 current loss: 0.1915069541334061\n",
      "step: 64, mu: 0.003 current loss: 0.012138084152279866\n",
      "ENDED ON STEP: 100, FINAL LOSS: 0.0028783630996521863\n",
      "VALIDATION LOSS: 0.006655140068910834\n"
     ]
    }
   ],
   "source": [
    "# переменные для хранения предыдущих значений параметров\n",
    "store = [tf.Variable(tf.zeros(p.shape, dtype=tf.float64)) for p in parms]\n",
    "# операции TensorFlow для сохранения и откатывания значений параметров\n",
    "save_parms = [tf.assign(s, p) for s, p in zip(store, parms)]\n",
    "restore_parms = [tf.assign(p, s) for s, p in zip(store, parms)]\n",
    "\n",
    "# пусть значение mu вначале будет равно 3.\n",
    "feed_dict[mu] = np.array([3.])\n",
    "step = 0\n",
    "session.run(tf.global_variables_initializer())\n",
    "# считаем начальное значение mse\n",
    "current_loss = session.run(loss, feed_dict)\n",
    "# сделаем не больше 100 шагов оптимизации\n",
    "while current_loss > 1e-10 and step < 100:\n",
    "    step += 1\n",
    "    # логируем 1, 2, 4... шаг оптимизации\n",
    "    if math.log(step, 2).is_integer():\n",
    "        print(f'step: {step}, mu: {feed_dict[mu][0]} current loss: {current_loss}')\n",
    "    # сохраняем значения параметров\n",
    "    session.run(save_parms)\n",
    "    # выполняем, пока не добьёмся уменьшения mse\n",
    "    while True:\n",
    "        # делаем шаг оптимизации\n",
    "        session.run(lm, feed_dict)\n",
    "        new_loss = session.run(loss, feed_dict)\n",
    "        if new_loss > current_loss:\n",
    "            # неудача - увеличиваем mu в 10 раз и восстанавливаем параметры\n",
    "            feed_dict[mu] *= 10\n",
    "            session.run(restore_parms)\n",
    "        else:\n",
    "            # удача - уменьшаем mu в 10 раз и движемся дальше\n",
    "            feed_dict[mu] /= 10\n",
    "            current_loss = new_loss\n",
    "            break\n",
    "\n",
    "print(f'ENDED ON STEP: {step}, FINAL LOSS: {current_loss}')\n",
    "print('VALIDATION LOSS: '+str(session.run(loss, validation_feed_dict)))"
   ]
  },
  {
   "cell_type": "code",
   "execution_count": null,
   "metadata": {},
   "outputs": [],
   "source": []
  }
 ],
 "metadata": {
  "kernelspec": {
   "display_name": "Python 3.6 (with Tensorflow GPU)",
   "language": "python",
   "name": "tensorflow"
  },
  "language_info": {
   "codemirror_mode": {
    "name": "ipython",
    "version": 3
   },
   "file_extension": ".py",
   "mimetype": "text/x-python",
   "name": "python",
   "nbconvert_exporter": "python",
   "pygments_lexer": "ipython3",
   "version": "3.6.4"
  }
 },
 "nbformat": 4,
 "nbformat_minor": 2
}
