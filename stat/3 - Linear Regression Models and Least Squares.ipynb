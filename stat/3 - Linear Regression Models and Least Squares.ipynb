{
 "cells": [
  {
   "cell_type": "code",
   "execution_count": 1,
   "metadata": {},
   "outputs": [],
   "source": [
    "import numpy as np\n",
    "from numpy.random import normal\n",
    "from numpy.random import uniform\n",
    "from numpy.linalg import inv\n",
    "from math import sqrt\n",
    "import pandas as pd\n",
    "import itertools\n",
    "from matplotlib import pyplot as plt\n",
    "%matplotlib inline"
   ]
  },
  {
   "cell_type": "code",
   "execution_count": 2,
   "metadata": {
    "collapsed": true
   },
   "outputs": [],
   "source": [
    "N, p, sigma, low, high = 1000, 3, 1, -1, 1\n",
    "b = np.array([[2, 5, -4, 0]]).T"
   ]
  },
  {
   "cell_type": "code",
   "execution_count": 3,
   "metadata": {
    "collapsed": true
   },
   "outputs": [],
   "source": [
    "sigma_squared_hat_biased = []\n",
    "sigma_squared_hat_unbiased = []\n",
    "for i in range(10000):\n",
    "    X = uniform(low, high, size=(N, p+1))\n",
    "    X[:,0] = 1\n",
    "    y = X.dot(b) + normal(0, sigma, (N, 1))\n",
    "    b_hat = inv(X.T.dot(X)).dot(X.T).dot(y)\n",
    "    y_hat = X.dot(b_hat)\n",
    "    sse = np.sum((y - y_hat)**2)\n",
    "    sigma_squared_hat_biased.append(sse / N)\n",
    "    sigma_squared_hat_unbiased.append(sse / (N-p-1))"
   ]
  },
  {
   "cell_type": "code",
   "execution_count": 4,
   "metadata": {},
   "outputs": [
    {
     "data": {
      "text/plain": [
       "(0.9954172460819168, 0.9994149057047358)"
      ]
     },
     "execution_count": 4,
     "metadata": {},
     "output_type": "execute_result"
    }
   ],
   "source": [
    "np.mean(sigma_squared_hat_biased), np.mean(sigma_squared_hat_unbiased)"
   ]
  },
  {
   "cell_type": "code",
   "execution_count": 5,
   "metadata": {
    "collapsed": true
   },
   "outputs": [],
   "source": [
    "sigma_hat = np.sqrt(sigma_squared_hat_unbiased[-1])\n",
    "V = inv(X.T.dot(X))\n",
    "v = []\n",
    "z = []\n",
    "for j in range(p+1):\n",
    "    z.append(b_hat[j][0] / sigma_hat / sqrt(V[j,j]))\n",
    "    v.append(V[j,j])\n",
    "v = np.array(v)"
   ]
  },
  {
   "cell_type": "code",
   "execution_count": 6,
   "metadata": {},
   "outputs": [
    {
     "data": {
      "text/plain": [
       "[62.04748451741765, 91.33176336061861, -76.43455312740114, 0.8960900427252064]"
      ]
     },
     "execution_count": 6,
     "metadata": {},
     "output_type": "execute_result"
    }
   ],
   "source": [
    "z"
   ]
  },
  {
   "cell_type": "code",
   "execution_count": 7,
   "metadata": {
    "collapsed": true
   },
   "outputs": [],
   "source": [
    "b_hat = np.squeeze(b_hat)"
   ]
  },
  {
   "cell_type": "code",
   "execution_count": 8,
   "metadata": {},
   "outputs": [
    {
     "data": {
      "text/plain": [
       "(array([ 1.87341909,  4.88447075, -4.20554298, -0.05852197]),\n",
       " array([ 1.9956376 ,  5.09871208, -3.99525122,  0.15710354]))"
      ]
     },
     "execution_count": 8,
     "metadata": {},
     "output_type": "execute_result"
    }
   ],
   "source": [
    "(b_hat - 1.96*np.sqrt(v)*sigma_hat), (b_hat + 1.96*np.sqrt(v)*sigma_hat)"
   ]
  },
  {
   "cell_type": "code",
   "execution_count": 2,
   "metadata": {},
   "outputs": [
    {
     "data": {
      "text/html": [
       "<div>\n",
       "<style scoped>\n",
       "    .dataframe tbody tr th:only-of-type {\n",
       "        vertical-align: middle;\n",
       "    }\n",
       "\n",
       "    .dataframe tbody tr th {\n",
       "        vertical-align: top;\n",
       "    }\n",
       "\n",
       "    .dataframe thead th {\n",
       "        text-align: right;\n",
       "    }\n",
       "</style>\n",
       "<table border=\"1\" class=\"dataframe\">\n",
       "  <thead>\n",
       "    <tr style=\"text-align: right;\">\n",
       "      <th></th>\n",
       "      <th>id</th>\n",
       "      <th>lcavol</th>\n",
       "      <th>lweight</th>\n",
       "      <th>age</th>\n",
       "      <th>lbph</th>\n",
       "      <th>svi</th>\n",
       "      <th>lcp</th>\n",
       "      <th>gleason</th>\n",
       "      <th>pgg45</th>\n",
       "      <th>lpsa</th>\n",
       "      <th>train</th>\n",
       "    </tr>\n",
       "  </thead>\n",
       "  <tbody>\n",
       "    <tr>\n",
       "      <th>0</th>\n",
       "      <td>1</td>\n",
       "      <td>-0.579818</td>\n",
       "      <td>2.769459</td>\n",
       "      <td>50</td>\n",
       "      <td>-1.386294</td>\n",
       "      <td>0</td>\n",
       "      <td>-1.386294</td>\n",
       "      <td>6</td>\n",
       "      <td>0</td>\n",
       "      <td>-0.430783</td>\n",
       "      <td>T</td>\n",
       "    </tr>\n",
       "    <tr>\n",
       "      <th>1</th>\n",
       "      <td>2</td>\n",
       "      <td>-0.994252</td>\n",
       "      <td>3.319626</td>\n",
       "      <td>58</td>\n",
       "      <td>-1.386294</td>\n",
       "      <td>0</td>\n",
       "      <td>-1.386294</td>\n",
       "      <td>6</td>\n",
       "      <td>0</td>\n",
       "      <td>-0.162519</td>\n",
       "      <td>T</td>\n",
       "    </tr>\n",
       "    <tr>\n",
       "      <th>2</th>\n",
       "      <td>3</td>\n",
       "      <td>-0.510826</td>\n",
       "      <td>2.691243</td>\n",
       "      <td>74</td>\n",
       "      <td>-1.386294</td>\n",
       "      <td>0</td>\n",
       "      <td>-1.386294</td>\n",
       "      <td>7</td>\n",
       "      <td>20</td>\n",
       "      <td>-0.162519</td>\n",
       "      <td>T</td>\n",
       "    </tr>\n",
       "    <tr>\n",
       "      <th>3</th>\n",
       "      <td>4</td>\n",
       "      <td>-1.203973</td>\n",
       "      <td>3.282789</td>\n",
       "      <td>58</td>\n",
       "      <td>-1.386294</td>\n",
       "      <td>0</td>\n",
       "      <td>-1.386294</td>\n",
       "      <td>6</td>\n",
       "      <td>0</td>\n",
       "      <td>-0.162519</td>\n",
       "      <td>T</td>\n",
       "    </tr>\n",
       "    <tr>\n",
       "      <th>4</th>\n",
       "      <td>5</td>\n",
       "      <td>0.751416</td>\n",
       "      <td>3.432373</td>\n",
       "      <td>62</td>\n",
       "      <td>-1.386294</td>\n",
       "      <td>0</td>\n",
       "      <td>-1.386294</td>\n",
       "      <td>6</td>\n",
       "      <td>0</td>\n",
       "      <td>0.371564</td>\n",
       "      <td>T</td>\n",
       "    </tr>\n",
       "  </tbody>\n",
       "</table>\n",
       "</div>"
      ],
      "text/plain": [
       "   id    lcavol   lweight  age      lbph  svi       lcp  gleason  pgg45  \\\n",
       "0   1 -0.579818  2.769459   50 -1.386294    0 -1.386294        6      0   \n",
       "1   2 -0.994252  3.319626   58 -1.386294    0 -1.386294        6      0   \n",
       "2   3 -0.510826  2.691243   74 -1.386294    0 -1.386294        7     20   \n",
       "3   4 -1.203973  3.282789   58 -1.386294    0 -1.386294        6      0   \n",
       "4   5  0.751416  3.432373   62 -1.386294    0 -1.386294        6      0   \n",
       "\n",
       "       lpsa train  \n",
       "0 -0.430783     T  \n",
       "1 -0.162519     T  \n",
       "2 -0.162519     T  \n",
       "3 -0.162519     T  \n",
       "4  0.371564     T  "
      ]
     },
     "execution_count": 2,
     "metadata": {},
     "output_type": "execute_result"
    }
   ],
   "source": [
    "data = pd.read_csv(\"Prostate Cancer.txt\") \n",
    "data.head()"
   ]
  },
  {
   "cell_type": "code",
   "execution_count": 3,
   "metadata": {
    "collapsed": true
   },
   "outputs": [],
   "source": [
    "names = ['lcavol', 'lweight', 'age', 'lbph', 'svi', 'lcp', 'gleason', 'pgg45']"
   ]
  },
  {
   "cell_type": "code",
   "execution_count": 4,
   "metadata": {},
   "outputs": [
    {
     "data": {
      "text/html": [
       "<div>\n",
       "<style>\n",
       "    .dataframe thead tr:only-child th {\n",
       "        text-align: right;\n",
       "    }\n",
       "\n",
       "    .dataframe thead th {\n",
       "        text-align: left;\n",
       "    }\n",
       "\n",
       "    .dataframe tbody tr th {\n",
       "        vertical-align: top;\n",
       "    }\n",
       "</style>\n",
       "<table border=\"1\" class=\"dataframe\">\n",
       "  <thead>\n",
       "    <tr style=\"text-align: right;\">\n",
       "      <th></th>\n",
       "      <th>lcavol</th>\n",
       "      <th>lweight</th>\n",
       "      <th>age</th>\n",
       "      <th>lbph</th>\n",
       "      <th>svi</th>\n",
       "      <th>lcp</th>\n",
       "      <th>gleason</th>\n",
       "      <th>pgg45</th>\n",
       "    </tr>\n",
       "  </thead>\n",
       "  <tbody>\n",
       "    <tr>\n",
       "      <th>lcavol</th>\n",
       "      <td>1.000000</td>\n",
       "      <td>0.300232</td>\n",
       "      <td>0.286324</td>\n",
       "      <td>0.063168</td>\n",
       "      <td>0.592949</td>\n",
       "      <td>0.692043</td>\n",
       "      <td>0.426414</td>\n",
       "      <td>0.483161</td>\n",
       "    </tr>\n",
       "    <tr>\n",
       "      <th>lweight</th>\n",
       "      <td>0.300232</td>\n",
       "      <td>1.000000</td>\n",
       "      <td>0.316723</td>\n",
       "      <td>0.437042</td>\n",
       "      <td>0.181054</td>\n",
       "      <td>0.156829</td>\n",
       "      <td>0.023558</td>\n",
       "      <td>0.074166</td>\n",
       "    </tr>\n",
       "    <tr>\n",
       "      <th>age</th>\n",
       "      <td>0.286324</td>\n",
       "      <td>0.316723</td>\n",
       "      <td>1.000000</td>\n",
       "      <td>0.287346</td>\n",
       "      <td>0.128902</td>\n",
       "      <td>0.172951</td>\n",
       "      <td>0.365915</td>\n",
       "      <td>0.275806</td>\n",
       "    </tr>\n",
       "    <tr>\n",
       "      <th>lbph</th>\n",
       "      <td>0.063168</td>\n",
       "      <td>0.437042</td>\n",
       "      <td>0.287346</td>\n",
       "      <td>1.000000</td>\n",
       "      <td>-0.139147</td>\n",
       "      <td>-0.088535</td>\n",
       "      <td>0.032992</td>\n",
       "      <td>-0.030404</td>\n",
       "    </tr>\n",
       "    <tr>\n",
       "      <th>svi</th>\n",
       "      <td>0.592949</td>\n",
       "      <td>0.181054</td>\n",
       "      <td>0.128902</td>\n",
       "      <td>-0.139147</td>\n",
       "      <td>1.000000</td>\n",
       "      <td>0.671240</td>\n",
       "      <td>0.306875</td>\n",
       "      <td>0.481358</td>\n",
       "    </tr>\n",
       "    <tr>\n",
       "      <th>lcp</th>\n",
       "      <td>0.692043</td>\n",
       "      <td>0.156829</td>\n",
       "      <td>0.172951</td>\n",
       "      <td>-0.088535</td>\n",
       "      <td>0.671240</td>\n",
       "      <td>1.000000</td>\n",
       "      <td>0.476437</td>\n",
       "      <td>0.662533</td>\n",
       "    </tr>\n",
       "    <tr>\n",
       "      <th>gleason</th>\n",
       "      <td>0.426414</td>\n",
       "      <td>0.023558</td>\n",
       "      <td>0.365915</td>\n",
       "      <td>0.032992</td>\n",
       "      <td>0.306875</td>\n",
       "      <td>0.476437</td>\n",
       "      <td>1.000000</td>\n",
       "      <td>0.757056</td>\n",
       "    </tr>\n",
       "    <tr>\n",
       "      <th>pgg45</th>\n",
       "      <td>0.483161</td>\n",
       "      <td>0.074166</td>\n",
       "      <td>0.275806</td>\n",
       "      <td>-0.030404</td>\n",
       "      <td>0.481358</td>\n",
       "      <td>0.662533</td>\n",
       "      <td>0.757056</td>\n",
       "      <td>1.000000</td>\n",
       "    </tr>\n",
       "  </tbody>\n",
       "</table>\n",
       "</div>"
      ],
      "text/plain": [
       "           lcavol   lweight       age      lbph       svi       lcp   gleason  \\\n",
       "lcavol   1.000000  0.300232  0.286324  0.063168  0.592949  0.692043  0.426414   \n",
       "lweight  0.300232  1.000000  0.316723  0.437042  0.181054  0.156829  0.023558   \n",
       "age      0.286324  0.316723  1.000000  0.287346  0.128902  0.172951  0.365915   \n",
       "lbph     0.063168  0.437042  0.287346  1.000000 -0.139147 -0.088535  0.032992   \n",
       "svi      0.592949  0.181054  0.128902 -0.139147  1.000000  0.671240  0.306875   \n",
       "lcp      0.692043  0.156829  0.172951 -0.088535  0.671240  1.000000  0.476437   \n",
       "gleason  0.426414  0.023558  0.365915  0.032992  0.306875  0.476437  1.000000   \n",
       "pgg45    0.483161  0.074166  0.275806 -0.030404  0.481358  0.662533  0.757056   \n",
       "\n",
       "            pgg45  \n",
       "lcavol   0.483161  \n",
       "lweight  0.074166  \n",
       "age      0.275806  \n",
       "lbph    -0.030404  \n",
       "svi      0.481358  \n",
       "lcp      0.662533  \n",
       "gleason  0.757056  \n",
       "pgg45    1.000000  "
      ]
     },
     "execution_count": 4,
     "metadata": {},
     "output_type": "execute_result"
    }
   ],
   "source": [
    "data[data.train == 'T'][names].corr()"
   ]
  },
  {
   "cell_type": "code",
   "execution_count": 5,
   "metadata": {
    "collapsed": true
   },
   "outputs": [],
   "source": [
    "lcavol = data[data.train == 'T'].lcavol.values\n",
    "lweight = data[data.train == 'T'].lweight.values"
   ]
  },
  {
   "cell_type": "code",
   "execution_count": 6,
   "metadata": {
    "collapsed": true
   },
   "outputs": [],
   "source": [
    "lcavol_mean = np.mean(lcavol)\n",
    "lweight_mean = np.mean(lweight)\n",
    "\n",
    "lcavol_std = np.sqrt(np.mean((lcavol - lcavol_mean)**2))\n",
    "lweight_std = np.sqrt(np.mean((lweight - lweight_mean)**2))\n",
    "cor = np.mean((lcavol - lcavol_mean)*(lweight - lweight_mean))/(lcavol_std*lweight_std)"
   ]
  },
  {
   "cell_type": "code",
   "execution_count": 7,
   "metadata": {
    "collapsed": true
   },
   "outputs": [],
   "source": [
    "X = data[data.train == 'T'][names].values\n",
    "y = data[data.train == 'T'][['lpsa']].values\n",
    "X = (X - X.mean(axis=0)) / (X.std(axis=0))\n",
    "X = np.hstack((np.ones(shape=(X.shape[0], 1)), X))"
   ]
  },
  {
   "cell_type": "code",
   "execution_count": 8,
   "metadata": {
    "collapsed": true
   },
   "outputs": [],
   "source": [
    "V = inv(X.T.dot(X))\n",
    "v = np.diag(V)\n",
    "b_hat = V.dot(X.T).dot(y)\n",
    "y_hat = X.dot(b_hat)\n",
    "RSS1 = np.sum((y - y_hat)**2)\n",
    "var = np.sqrt(RSS1 / (X.shape[0] - X.shape[1]))"
   ]
  },
  {
   "cell_type": "code",
   "execution_count": 10,
   "metadata": {
    "collapsed": true
   },
   "outputs": [],
   "source": [
    "names0 = ['lcavol', 'lweight', 'lbph', 'svi']\n",
    "X = data[data.train == 'T'][names0].values\n",
    "y = data[data.train == 'T'][['lpsa']].values\n",
    "X_mean, X_std = X.mean(axis=0), X.std(axis=0)\n",
    "X = (X - X_mean) / X_std\n",
    "X = np.hstack((np.ones(shape=(X.shape[0], 1)), X))\n",
    "V = inv(X.T.dot(X))\n",
    "b_hat = V.dot(X.T).dot(y)\n",
    "y_hat = X.dot(b_hat)\n",
    "RSS0 = np.sum((y - y_hat)**2)"
   ]
  },
  {
   "cell_type": "code",
   "execution_count": 11,
   "metadata": {
    "collapsed": true
   },
   "outputs": [],
   "source": [
    "F = ((RSS0 - RSS1)/(len(names) - len(names0)))/(RSS1/(X.shape[0] - len(names) - 1))"
   ]
  },
  {
   "cell_type": "code",
   "execution_count": 12,
   "metadata": {
    "collapsed": true
   },
   "outputs": [],
   "source": [
    "y_test = data[data.train == 'F'][['lpsa']].values\n",
    "X_test = data[data.train == 'F'][names0].values\n",
    "X_test = (X_test - X_mean) / X_std\n",
    "X_test = np.hstack((np.ones(shape=(X_test.shape[0], 1)), X_test))\n",
    "y_test_hat = X_test.dot(b_hat)"
   ]
  },
  {
   "cell_type": "code",
   "execution_count": 13,
   "metadata": {},
   "outputs": [
    {
     "data": {
      "text/plain": [
       "0.45633212204016266"
      ]
     },
     "execution_count": 13,
     "metadata": {},
     "output_type": "execute_result"
    }
   ],
   "source": [
    "np.mean((y_test - y_test_hat)**2)"
   ]
  },
  {
   "cell_type": "code",
   "execution_count": 14,
   "metadata": {},
   "outputs": [
    {
     "data": {
      "text/plain": [
       "1.056733228060382"
      ]
     },
     "execution_count": 14,
     "metadata": {},
     "output_type": "execute_result"
    }
   ],
   "source": [
    "np.mean((y_test - np.mean(y))**2)"
   ]
  },
  {
   "cell_type": "code",
   "execution_count": 36,
   "metadata": {
    "collapsed": true
   },
   "outputs": [],
   "source": [
    "def mse_by_names(names):\n",
    "    X = data[data.train == 'T'][names].values\n",
    "    y = data[data.train == 'T'][['lpsa']].values\n",
    "    X_mean, X_std = X.mean(axis=0), X.std(axis=0)\n",
    "    X = (X - X_mean) / X_std\n",
    "    X = np.hstack((np.ones(shape=(X.shape[0], 1)), X))\n",
    "    V = inv(X.T @ X)\n",
    "    b_hat = V @X.T @ y\n",
    "    y_hat = X @ b_hat\n",
    "    mse = np.mean((y - y_hat)**2)\n",
    "    \n",
    "    X_test = data[data.train == 'F'][names].values\n",
    "    y_test = data[data.train == 'F'][['lpsa']].values\n",
    "    X_test = (X_test - X_mean) / X_std\n",
    "    X_test = np.hstack((np.ones(shape=(X_test.shape[0], 1)), X_test))\n",
    "    y_test_hat = X_test.dot(b_hat)\n",
    "    mse = np.mean((y_test - y_test_hat)**2)\n",
    "\n",
    "    return mse"
   ]
  },
  {
   "cell_type": "code",
   "execution_count": 37,
   "metadata": {},
   "outputs": [],
   "source": [
    "names = ['lcavol', 'lweight', 'age', 'lbph', 'svi', 'lcp', 'gleason', 'pgg45']\n",
    "x, y = [], []\n",
    "for k in range(0, len(names)):\n",
    "    for comb in itertools.combinations(names, k):\n",
    "        x.append(k)\n",
    "        y.append(mse_by_names(list(comb)))"
   ]
  },
  {
   "cell_type": "code",
   "execution_count": 38,
   "metadata": {},
   "outputs": [
    {
     "data": {
      "text/plain": [
       "<matplotlib.collections.PathCollection at 0x20fea2229b0>"
      ]
     },
     "execution_count": 38,
     "metadata": {},
     "output_type": "execute_result"
    },
    {
     "data": {
      "image/png": "[encoded data removed]",
      "text/plain": [
       "<matplotlib.figure.Figure at 0x20fea138b00>"
      ]
     },
     "metadata": {},
     "output_type": "display_data"
    }
   ],
   "source": [
    "plt.scatter(x, y)"
   ]
  },
  {
   "cell_type": "code",
   "execution_count": 3,
   "metadata": {},
   "outputs": [],
   "source": [
    "names = ['lcavol', 'lweight', 'age', 'lbph', 'svi', 'lcp', 'gleason', 'pgg45']"
   ]
  },
  {
   "cell_type": "code",
   "execution_count": 4,
   "metadata": {},
   "outputs": [],
   "source": [
    "X = data[data.train == 'T'][names].values\n",
    "y = data[data.train == 'T'][['lpsa']].values\n",
    "X_mean, X_std = X.mean(axis=0), X.std(axis=0)\n",
    "X = (X - X_mean) / X_std"
   ]
  },
  {
   "cell_type": "code",
   "execution_count": 7,
   "metadata": {},
   "outputs": [],
   "source": [
    "intercept = np.mean(y)\n",
    "y -= intercept"
   ]
  },
  {
   "cell_type": "code",
   "execution_count": 39,
   "metadata": {},
   "outputs": [],
   "source": [
    "coefficients = np.zeros(shape=(10000, len(names)))\n",
    "dfl = np.zeros(10000)\n",
    "for l in range(10000):\n",
    "    b_hat_ridge = inv(X.T @ X + l*np.eye(len(names))) @ X.T @ y\n",
    "    Hl = X @ inv(X.T @ X + l*np.eye(len(names))) @ X.T\n",
    "    dfl[l] = np.trace(Hl)\n",
    "    coefficients[l,:] = np.squeeze(b_hat_ridge)"
   ]
  },
  {
   "cell_type": "code",
   "execution_count": 40,
   "metadata": {},
   "outputs": [
    {
     "data": {
      "image/png": "[encoded data removed]",
      "text/plain": [
       "<Figure size 432x288 with 1 Axes>"
      ]
     },
     "metadata": {},
     "output_type": "display_data"
    }
   ],
   "source": [
    "for i in range(len(names)):\n",
    "    plt.plot(dfl, coefficients[:,i])"
   ]
  },
  {
   "cell_type": "code",
   "execution_count": 216,
   "metadata": {},
   "outputs": [
    {
     "data": {
      "text/plain": [
       "(1.4798432596099296, 0.6410028669080959)"
      ]
     },
     "execution_count": 216,
     "metadata": {},
     "output_type": "execute_result"
    }
   ],
   "source": [
    "from sklearn.model_selection import ShuffleSplit\n",
    "\n",
    "X_all = data[data.train == 'T'][names].values\n",
    "Y_all = data[data.train == 'T'][['lpsa']].values\n",
    "\n",
    "i = 0\n",
    "l = np.abs(dfl - i).argmin()\n",
    "cv = ShuffleSplit(n_splits=10, random_state=0, test_size=0.1, train_size=None)\n",
    "mse = []\n",
    "for train_index, test_index in cv.split(X_all):\n",
    "    X = X_all[train_index]\n",
    "    y = Y_all[train_index]\n",
    "    X_mean, X_std, intercept = X.mean(axis=0), X.std(axis=0), np.mean(y)\n",
    "    X = (X - X_mean) / X_std\n",
    "    y -= intercept\n",
    "    \n",
    "    b_hat_ridge = inv(X.T @ X + l*np.eye(len(names))) @ X.T @ y\n",
    "    \n",
    "    X_test = X_all[test_index]\n",
    "    y_test = Y_all[test_index]\n",
    "    X_test = (X_test - X_mean) / X_std\n",
    "    y_test_hat = X_test @ b_hat_ridge + intercept\n",
    "    mse.append(np.mean((y_test - y_test_hat)**2))\n",
    "np.mean(mse), np.var(mse)"
   ]
  },
  {
   "cell_type": "code",
   "execution_count": 208,
   "metadata": {},
   "outputs": [],
   "source": [
    "X_all = data[data.train == 'T'][names].values\n",
    "Y_all = data[data.train == 'T'][['lpsa']].values\n",
    "\n",
    "X = X_all\n",
    "y = Y_all\n",
    "X_mean, X_std, intercept = X.mean(axis=0), X.std(axis=0), np.mean(y)\n",
    "X = (X - X_mean) / X_std\n",
    "y -= intercept\n",
    "l = np.abs(dfl - 8).argmin()\n",
    "b_hat_ridge = inv(X.T @ X + l*np.eye(len(names))) @ X.T @ y"
   ]
  },
  {
   "cell_type": "code",
   "execution_count": 209,
   "metadata": {},
   "outputs": [
    {
     "data": {
      "text/plain": [
       "array([[ 0.71104059],\n",
       "       [ 0.29045029],\n",
       "       [-0.14148182],\n",
       "       [ 0.21041951],\n",
       "       [ 0.30730025],\n",
       "       [-0.28684075],\n",
       "       [-0.02075686],\n",
       "       [ 0.27526843]])"
      ]
     },
     "execution_count": 209,
     "metadata": {},
     "output_type": "execute_result"
    }
   ],
   "source": [
    "b_hat_ridge"
   ]
  },
  {
   "cell_type": "code",
   "execution_count": 210,
   "metadata": {},
   "outputs": [
    {
     "data": {
      "text/plain": [
       "0.5212740055076004"
      ]
     },
     "execution_count": 210,
     "metadata": {},
     "output_type": "execute_result"
    }
   ],
   "source": [
    "X = data[data.train == 'F'][names].values\n",
    "y = data[data.train == 'F'][['lpsa']].values\n",
    "X = (X - X_mean) / X_std\n",
    "y_hat = X @ b_hat_ridge + intercept\n",
    "np.mean((y - y_hat)**2)"
   ]
  },
  {
   "cell_type": "code",
   "execution_count": 183,
   "metadata": {},
   "outputs": [
    {
     "data": {
      "text/plain": [
       "2.4523450850746267"
      ]
     },
     "execution_count": 183,
     "metadata": {},
     "output_type": "execute_result"
    }
   ],
   "source": [
    "intercept"
   ]
  },
  {
   "cell_type": "code",
   "execution_count": null,
   "metadata": {},
   "outputs": [],
   "source": []
  }
 ],
 "metadata": {
  "kernelspec": {
   "display_name": "Python 3.6 (with Tensorflow GPU)",
   "language": "python",
   "name": "tensorflow"
  },
  "language_info": {
   "codemirror_mode": {
    "name": "ipython",
    "version": 3
   },
   "file_extension": ".py",
   "mimetype": "text/x-python",
   "name": "python",
   "nbconvert_exporter": "python",
   "pygments_lexer": "ipython3",
   "version": "3.6.4"
  }
 },
 "nbformat": 4,
 "nbformat_minor": 2
}
