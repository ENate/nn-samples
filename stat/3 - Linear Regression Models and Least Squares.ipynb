{
 "cells": [
  {
   "cell_type": "code",
   "execution_count": 1,
   "metadata": {
    "collapsed": true
   },
   "outputs": [],
   "source": [
    "import numpy as np\n",
    "from numpy.random import normal\n",
    "from numpy.random import uniform\n",
    "from numpy.linalg import inv"
   ]
  },
  {
   "cell_type": "code",
   "execution_count": 56,
   "metadata": {},
   "outputs": [],
   "source": [
    "N, p, sigma, low, high = 10, 2, 1, -1, 1\n",
    "b = np.array([[2, 5, -4]]).T"
   ]
  },
  {
   "cell_type": "code",
   "execution_count": 59,
   "metadata": {},
   "outputs": [],
   "source": [
    "sigma_squared_hat_biased = []\n",
    "sigma_squared_hat_unbiased = []\n",
    "for i in range(10000):\n",
    "    X = uniform(low, high, size=(N, p+1))\n",
    "    X[:,0] = 1\n",
    "    y = X.dot(b) + normal(0, sigma, (N, 1))\n",
    "    b_hat = inv(X.T.dot(X)).dot(X.T).dot(y)\n",
    "    y_hat = X.dot(b_hat)\n",
    "    sse = np.sum((y - y_hat)**2)\n",
    "    sigma_squared_hat_biased.append(sse / N)\n",
    "    sigma_squared_hat_unbiased.append(sse / (N-p-1))\n",
    "    #var_b_hat = inv(X.T.dot(X))*(sigma**2)"
   ]
  },
  {
   "cell_type": "code",
   "execution_count": 60,
   "metadata": {},
   "outputs": [
    {
     "data": {
      "text/plain": [
       "(0.6987096059072238, 0.9981565798674626)"
      ]
     },
     "execution_count": 60,
     "metadata": {},
     "output_type": "execute_result"
    }
   ],
   "source": [
    "np.mean(sigma_squared_hat_biased), np.mean(sigma_squared_hat_unbiased)"
   ]
  },
  {
   "cell_type": "code",
   "execution_count": null,
   "metadata": {
    "collapsed": true
   },
   "outputs": [],
   "source": []
  }
 ],
 "metadata": {
  "kernelspec": {
   "display_name": "Python [conda env:Python64]",
   "language": "python",
   "name": "conda-env-Python64-py"
  },
  "language_info": {
   "codemirror_mode": {
    "name": "ipython",
    "version": 3
   },
   "file_extension": ".py",
   "mimetype": "text/x-python",
   "name": "python",
   "nbconvert_exporter": "python",
   "pygments_lexer": "ipython3",
   "version": "3.6.3"
  }
 },
 "nbformat": 4,
 "nbformat_minor": 2
}
