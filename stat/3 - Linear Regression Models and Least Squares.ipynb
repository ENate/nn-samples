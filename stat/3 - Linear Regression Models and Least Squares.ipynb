{
 "cells": [
  {
   "cell_type": "code",
   "execution_count": 6,
   "metadata": {},
   "outputs": [],
   "source": [
    "import numpy as np\n",
    "from numpy.random import normal\n",
    "from numpy.random import uniform\n",
    "from numpy.linalg import inv\n",
    "from math import sqrt"
   ]
  },
  {
   "cell_type": "code",
   "execution_count": 28,
   "metadata": {},
   "outputs": [],
   "source": [
    "N, p, sigma, low, high = 10, 3, 1, -1, 1\n",
    "b = np.array([[2, 5, -4, 0]]).T"
   ]
  },
  {
   "cell_type": "code",
   "execution_count": 29,
   "metadata": {},
   "outputs": [],
   "source": [
    "sigma_squared_hat_biased = []\n",
    "sigma_squared_hat_unbiased = []\n",
    "for i in range(10000):\n",
    "    X = uniform(low, high, size=(N, p+1))\n",
    "    X[:,0] = 1\n",
    "    y = X.dot(b) + normal(0, sigma, (N, 1))\n",
    "    b_hat = inv(X.T.dot(X)).dot(X.T).dot(y)\n",
    "    y_hat = X.dot(b_hat)\n",
    "    sse = np.sum((y - y_hat)**2)\n",
    "    sigma_squared_hat_biased.append(sse / N)\n",
    "    sigma_squared_hat_unbiased.append(sse / (N-p-1))"
   ]
  },
  {
   "cell_type": "code",
   "execution_count": 30,
   "metadata": {},
   "outputs": [
    {
     "data": {
      "text/plain": [
       "(0.6043411635426006, 1.0072352725710012)"
      ]
     },
     "execution_count": 30,
     "metadata": {},
     "output_type": "execute_result"
    }
   ],
   "source": [
    "np.mean(sigma_squared_hat_biased), np.mean(sigma_squared_hat_unbiased)"
   ]
  },
  {
   "cell_type": "code",
   "execution_count": 37,
   "metadata": {},
   "outputs": [],
   "source": [
    "sigma_hat = np.sqrt(sigma_squared_hat_unbiased[-1])\n",
    "V = inv(X.T.dot(X))\n",
    "v = []\n",
    "z = []\n",
    "for j in range(p+1):\n",
    "    z.append(b_hat[j][0] / sigma_hat / sqrt(V[j,j]))\n",
    "    v.append(V[j,j])\n",
    "v = np.array(v)"
   ]
  },
  {
   "cell_type": "code",
   "execution_count": 38,
   "metadata": {},
   "outputs": [
    {
     "data": {
      "text/plain": [
       "[6.869837989090129,\n",
       " 8.281062082089798,\n",
       " -4.183850330342424,\n",
       " 0.005054202605464383]"
      ]
     },
     "execution_count": 38,
     "metadata": {},
     "output_type": "execute_result"
    }
   ],
   "source": [
    "z"
   ]
  },
  {
   "cell_type": "code",
   "execution_count": 39,
   "metadata": {},
   "outputs": [
    {
     "data": {
      "text/plain": [
       "array([[ 0.13642588, -0.03195253,  0.15099151, -0.04348441],\n",
       "       [-0.03195253,  0.40778695, -0.27973261,  0.17571988],\n",
       "       [ 0.15099151, -0.27973261,  0.90324073,  0.07623619],\n",
       "       [-0.04348441,  0.17571988,  0.07623619,  0.53766547]])"
      ]
     },
     "execution_count": 39,
     "metadata": {},
     "output_type": "execute_result"
    }
   ],
   "source": [
    "V"
   ]
  },
  {
   "cell_type": "code",
   "execution_count": 45,
   "metadata": {},
   "outputs": [
    {
     "data": {
      "text/plain": [
       "(array([[ 1.7189479 ,  1.21878002,  0.63949777,  1.04289149],\n",
       "        [ 4.32624652,  3.82607864,  3.2467964 ,  3.65019011],\n",
       "        [-4.4551922 , -4.95536008, -5.53464232, -5.13124861],\n",
       "        [-0.68268862, -1.1828565 , -1.76213875, -1.35874503]]),\n",
       " array([[ 3.09135078,  3.59151866,  4.17080091,  3.76740719],\n",
       "        [ 5.6986494 ,  6.19881728,  6.77809953,  6.37470581],\n",
       "        [-3.08278932, -2.58262144, -2.00333919, -2.40673291],\n",
       "        [ 0.68971426,  1.18988214,  1.76916439,  1.36577067]]))"
      ]
     },
     "execution_count": 45,
     "metadata": {},
     "output_type": "execute_result"
    }
   ],
   "source": [
    "(b_hat - 1.96*np.sqrt(v)*sigma_hat), (b_hat + 1.96*np.sqrt(v)*sigma_hat)"
   ]
  },
  {
   "cell_type": "code",
   "execution_count": null,
   "metadata": {},
   "outputs": [],
   "source": []
  }
 ],
 "metadata": {
  "kernelspec": {
   "display_name": "Python 3.6 (with Tensorflow GPU)",
   "language": "python",
   "name": "tensorflow"
  },
  "language_info": {
   "codemirror_mode": {
    "name": "ipython",
    "version": 3
   },
   "file_extension": ".py",
   "mimetype": "text/x-python",
   "name": "python",
   "nbconvert_exporter": "python",
   "pygments_lexer": "ipython3",
   "version": "3.6.4"
  }
 },
 "nbformat": 4,
 "nbformat_minor": 2
}
